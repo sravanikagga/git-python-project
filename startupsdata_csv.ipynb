{
  "nbformat": 4,
  "nbformat_minor": 0,
  "metadata": {
    "colab": {
      "name": "startupsdata.csv.ipynb",
      "provenance": [],
      "authorship_tag": "ABX9TyMLMigUWhgQrIYy5/DndTlQ",
      "include_colab_link": true
    },
    "kernelspec": {
      "name": "python3",
      "display_name": "Python 3"
    },
    "language_info": {
      "name": "python"
    }
  },
  "cells": [
    {
      "cell_type": "markdown",
      "metadata": {
        "id": "view-in-github",
        "colab_type": "text"
      },
      "source": [
        "<a href=\"https://colab.research.google.com/github/sravanikagga/git-python-project/blob/main/startupsdata_csv.ipynb\" target=\"_parent\"><img src=\"https://colab.research.google.com/assets/colab-badge.svg\" alt=\"Open In Colab\"/></a>"
      ]
    },
    {
      "cell_type": "code",
      "metadata": {
        "colab": {
          "base_uri": "https://localhost:8080/"
        },
        "id": "_q1FDHAarL5a",
        "outputId": "e5fa3a90-87f0-40d4-f490-cc8127a230d7"
      },
      "source": [
        "pip install pandas"
      ],
      "execution_count": 1,
      "outputs": [
        {
          "output_type": "stream",
          "name": "stdout",
          "text": [
            "Requirement already satisfied: pandas in /usr/local/lib/python3.7/dist-packages (1.1.5)\n",
            "Requirement already satisfied: numpy>=1.15.4 in /usr/local/lib/python3.7/dist-packages (from pandas) (1.19.5)\n",
            "Requirement already satisfied: pytz>=2017.2 in /usr/local/lib/python3.7/dist-packages (from pandas) (2018.9)\n",
            "Requirement already satisfied: python-dateutil>=2.7.3 in /usr/local/lib/python3.7/dist-packages (from pandas) (2.8.2)\n",
            "Requirement already satisfied: six>=1.5 in /usr/local/lib/python3.7/dist-packages (from python-dateutil>=2.7.3->pandas) (1.15.0)\n"
          ]
        }
      ]
    },
    {
      "cell_type": "code",
      "metadata": {
        "id": "t9ERqd6mrc08"
      },
      "source": [
        "import pandas as pd\n",
        "data=pd.read_csv('startupsdata.csv')"
      ],
      "execution_count": 2,
      "outputs": []
    },
    {
      "cell_type": "code",
      "metadata": {
        "colab": {
          "base_uri": "https://localhost:8080/",
          "height": 1000
        },
        "id": "tvkrzcMNrntE",
        "outputId": "44e3968d-2629-4fc2-ed51-9044bd55fa45"
      },
      "source": [
        "data"
      ],
      "execution_count": 3,
      "outputs": [
        {
          "output_type": "execute_result",
          "data": {
            "text/html": [
              "<div>\n",
              "<style scoped>\n",
              "    .dataframe tbody tr th:only-of-type {\n",
              "        vertical-align: middle;\n",
              "    }\n",
              "\n",
              "    .dataframe tbody tr th {\n",
              "        vertical-align: top;\n",
              "    }\n",
              "\n",
              "    .dataframe thead th {\n",
              "        text-align: right;\n",
              "    }\n",
              "</style>\n",
              "<table border=\"1\" class=\"dataframe\">\n",
              "  <thead>\n",
              "    <tr style=\"text-align: right;\">\n",
              "      <th></th>\n",
              "      <th>R&amp;D Spend</th>\n",
              "      <th>Administration</th>\n",
              "      <th>Marketing Spend</th>\n",
              "      <th>State</th>\n",
              "      <th>Profit</th>\n",
              "    </tr>\n",
              "  </thead>\n",
              "  <tbody>\n",
              "    <tr>\n",
              "      <th>0</th>\n",
              "      <td>165349.20</td>\n",
              "      <td>136897.80</td>\n",
              "      <td>471784.10</td>\n",
              "      <td>New York</td>\n",
              "      <td>192261.83</td>\n",
              "    </tr>\n",
              "    <tr>\n",
              "      <th>1</th>\n",
              "      <td>162597.70</td>\n",
              "      <td>151377.59</td>\n",
              "      <td>443898.53</td>\n",
              "      <td>California</td>\n",
              "      <td>191792.06</td>\n",
              "    </tr>\n",
              "    <tr>\n",
              "      <th>2</th>\n",
              "      <td>153441.51</td>\n",
              "      <td>101145.55</td>\n",
              "      <td>407934.54</td>\n",
              "      <td>Florida</td>\n",
              "      <td>191050.39</td>\n",
              "    </tr>\n",
              "    <tr>\n",
              "      <th>3</th>\n",
              "      <td>144372.41</td>\n",
              "      <td>118671.85</td>\n",
              "      <td>383199.62</td>\n",
              "      <td>New York</td>\n",
              "      <td>182901.99</td>\n",
              "    </tr>\n",
              "    <tr>\n",
              "      <th>4</th>\n",
              "      <td>142107.34</td>\n",
              "      <td>91391.77</td>\n",
              "      <td>366168.42</td>\n",
              "      <td>Florida</td>\n",
              "      <td>166187.94</td>\n",
              "    </tr>\n",
              "    <tr>\n",
              "      <th>5</th>\n",
              "      <td>131876.90</td>\n",
              "      <td>99814.71</td>\n",
              "      <td>362861.36</td>\n",
              "      <td>New York</td>\n",
              "      <td>156991.12</td>\n",
              "    </tr>\n",
              "    <tr>\n",
              "      <th>6</th>\n",
              "      <td>134615.46</td>\n",
              "      <td>147198.87</td>\n",
              "      <td>127716.82</td>\n",
              "      <td>California</td>\n",
              "      <td>156122.51</td>\n",
              "    </tr>\n",
              "    <tr>\n",
              "      <th>7</th>\n",
              "      <td>130298.13</td>\n",
              "      <td>145530.06</td>\n",
              "      <td>323876.68</td>\n",
              "      <td>Florida</td>\n",
              "      <td>155752.60</td>\n",
              "    </tr>\n",
              "    <tr>\n",
              "      <th>8</th>\n",
              "      <td>120542.52</td>\n",
              "      <td>148718.95</td>\n",
              "      <td>311613.29</td>\n",
              "      <td>New York</td>\n",
              "      <td>152211.77</td>\n",
              "    </tr>\n",
              "    <tr>\n",
              "      <th>9</th>\n",
              "      <td>123334.88</td>\n",
              "      <td>108679.17</td>\n",
              "      <td>304981.62</td>\n",
              "      <td>California</td>\n",
              "      <td>149759.96</td>\n",
              "    </tr>\n",
              "    <tr>\n",
              "      <th>10</th>\n",
              "      <td>101913.08</td>\n",
              "      <td>110594.11</td>\n",
              "      <td>229160.95</td>\n",
              "      <td>Florida</td>\n",
              "      <td>146121.95</td>\n",
              "    </tr>\n",
              "    <tr>\n",
              "      <th>11</th>\n",
              "      <td>100671.96</td>\n",
              "      <td>91790.61</td>\n",
              "      <td>249744.55</td>\n",
              "      <td>California</td>\n",
              "      <td>144259.40</td>\n",
              "    </tr>\n",
              "    <tr>\n",
              "      <th>12</th>\n",
              "      <td>93863.75</td>\n",
              "      <td>127320.38</td>\n",
              "      <td>249839.44</td>\n",
              "      <td>Florida</td>\n",
              "      <td>141585.52</td>\n",
              "    </tr>\n",
              "    <tr>\n",
              "      <th>13</th>\n",
              "      <td>91992.39</td>\n",
              "      <td>135495.07</td>\n",
              "      <td>252664.93</td>\n",
              "      <td>California</td>\n",
              "      <td>134307.35</td>\n",
              "    </tr>\n",
              "    <tr>\n",
              "      <th>14</th>\n",
              "      <td>119943.24</td>\n",
              "      <td>156547.42</td>\n",
              "      <td>256512.92</td>\n",
              "      <td>Florida</td>\n",
              "      <td>132602.65</td>\n",
              "    </tr>\n",
              "    <tr>\n",
              "      <th>15</th>\n",
              "      <td>114523.61</td>\n",
              "      <td>122616.84</td>\n",
              "      <td>261776.23</td>\n",
              "      <td>New York</td>\n",
              "      <td>129917.04</td>\n",
              "    </tr>\n",
              "    <tr>\n",
              "      <th>16</th>\n",
              "      <td>78013.11</td>\n",
              "      <td>121597.55</td>\n",
              "      <td>264346.06</td>\n",
              "      <td>California</td>\n",
              "      <td>126992.93</td>\n",
              "    </tr>\n",
              "    <tr>\n",
              "      <th>17</th>\n",
              "      <td>94657.16</td>\n",
              "      <td>145077.58</td>\n",
              "      <td>282574.31</td>\n",
              "      <td>New York</td>\n",
              "      <td>125370.37</td>\n",
              "    </tr>\n",
              "    <tr>\n",
              "      <th>18</th>\n",
              "      <td>91749.16</td>\n",
              "      <td>114175.79</td>\n",
              "      <td>294919.57</td>\n",
              "      <td>Florida</td>\n",
              "      <td>124266.90</td>\n",
              "    </tr>\n",
              "    <tr>\n",
              "      <th>19</th>\n",
              "      <td>86419.70</td>\n",
              "      <td>153514.11</td>\n",
              "      <td>0.00</td>\n",
              "      <td>New York</td>\n",
              "      <td>122776.86</td>\n",
              "    </tr>\n",
              "    <tr>\n",
              "      <th>20</th>\n",
              "      <td>76253.86</td>\n",
              "      <td>113867.30</td>\n",
              "      <td>298664.47</td>\n",
              "      <td>California</td>\n",
              "      <td>118474.03</td>\n",
              "    </tr>\n",
              "    <tr>\n",
              "      <th>21</th>\n",
              "      <td>78389.47</td>\n",
              "      <td>153773.43</td>\n",
              "      <td>299737.29</td>\n",
              "      <td>New York</td>\n",
              "      <td>111313.02</td>\n",
              "    </tr>\n",
              "    <tr>\n",
              "      <th>22</th>\n",
              "      <td>73994.56</td>\n",
              "      <td>122782.75</td>\n",
              "      <td>303319.26</td>\n",
              "      <td>Florida</td>\n",
              "      <td>110352.25</td>\n",
              "    </tr>\n",
              "    <tr>\n",
              "      <th>23</th>\n",
              "      <td>67532.53</td>\n",
              "      <td>105751.03</td>\n",
              "      <td>304768.73</td>\n",
              "      <td>Florida</td>\n",
              "      <td>108733.99</td>\n",
              "    </tr>\n",
              "    <tr>\n",
              "      <th>24</th>\n",
              "      <td>77044.01</td>\n",
              "      <td>99281.34</td>\n",
              "      <td>140574.81</td>\n",
              "      <td>New York</td>\n",
              "      <td>108552.04</td>\n",
              "    </tr>\n",
              "    <tr>\n",
              "      <th>25</th>\n",
              "      <td>64664.71</td>\n",
              "      <td>139553.16</td>\n",
              "      <td>137962.62</td>\n",
              "      <td>California</td>\n",
              "      <td>107404.34</td>\n",
              "    </tr>\n",
              "    <tr>\n",
              "      <th>26</th>\n",
              "      <td>75328.87</td>\n",
              "      <td>144135.98</td>\n",
              "      <td>134050.07</td>\n",
              "      <td>Florida</td>\n",
              "      <td>105733.54</td>\n",
              "    </tr>\n",
              "    <tr>\n",
              "      <th>27</th>\n",
              "      <td>72107.60</td>\n",
              "      <td>127864.55</td>\n",
              "      <td>353183.81</td>\n",
              "      <td>New York</td>\n",
              "      <td>105008.31</td>\n",
              "    </tr>\n",
              "    <tr>\n",
              "      <th>28</th>\n",
              "      <td>66051.52</td>\n",
              "      <td>182645.56</td>\n",
              "      <td>118148.20</td>\n",
              "      <td>Florida</td>\n",
              "      <td>103282.38</td>\n",
              "    </tr>\n",
              "    <tr>\n",
              "      <th>29</th>\n",
              "      <td>65605.48</td>\n",
              "      <td>153032.06</td>\n",
              "      <td>107138.38</td>\n",
              "      <td>New York</td>\n",
              "      <td>101004.64</td>\n",
              "    </tr>\n",
              "    <tr>\n",
              "      <th>30</th>\n",
              "      <td>61994.48</td>\n",
              "      <td>115641.28</td>\n",
              "      <td>91131.24</td>\n",
              "      <td>Florida</td>\n",
              "      <td>99937.59</td>\n",
              "    </tr>\n",
              "    <tr>\n",
              "      <th>31</th>\n",
              "      <td>61136.38</td>\n",
              "      <td>152701.92</td>\n",
              "      <td>88218.23</td>\n",
              "      <td>New York</td>\n",
              "      <td>97483.56</td>\n",
              "    </tr>\n",
              "    <tr>\n",
              "      <th>32</th>\n",
              "      <td>63408.86</td>\n",
              "      <td>129219.61</td>\n",
              "      <td>46085.25</td>\n",
              "      <td>California</td>\n",
              "      <td>97427.84</td>\n",
              "    </tr>\n",
              "    <tr>\n",
              "      <th>33</th>\n",
              "      <td>55493.95</td>\n",
              "      <td>103057.49</td>\n",
              "      <td>214634.81</td>\n",
              "      <td>Florida</td>\n",
              "      <td>96778.92</td>\n",
              "    </tr>\n",
              "    <tr>\n",
              "      <th>34</th>\n",
              "      <td>46426.07</td>\n",
              "      <td>157693.92</td>\n",
              "      <td>210797.67</td>\n",
              "      <td>California</td>\n",
              "      <td>96712.80</td>\n",
              "    </tr>\n",
              "    <tr>\n",
              "      <th>35</th>\n",
              "      <td>46014.02</td>\n",
              "      <td>85047.44</td>\n",
              "      <td>205517.64</td>\n",
              "      <td>New York</td>\n",
              "      <td>96479.51</td>\n",
              "    </tr>\n",
              "    <tr>\n",
              "      <th>36</th>\n",
              "      <td>28663.76</td>\n",
              "      <td>127056.21</td>\n",
              "      <td>201126.82</td>\n",
              "      <td>Florida</td>\n",
              "      <td>90708.19</td>\n",
              "    </tr>\n",
              "    <tr>\n",
              "      <th>37</th>\n",
              "      <td>44069.95</td>\n",
              "      <td>51283.14</td>\n",
              "      <td>197029.42</td>\n",
              "      <td>California</td>\n",
              "      <td>89949.14</td>\n",
              "    </tr>\n",
              "    <tr>\n",
              "      <th>38</th>\n",
              "      <td>20229.59</td>\n",
              "      <td>65947.93</td>\n",
              "      <td>185265.10</td>\n",
              "      <td>New York</td>\n",
              "      <td>81229.06</td>\n",
              "    </tr>\n",
              "    <tr>\n",
              "      <th>39</th>\n",
              "      <td>38558.51</td>\n",
              "      <td>82982.09</td>\n",
              "      <td>174999.30</td>\n",
              "      <td>California</td>\n",
              "      <td>81005.76</td>\n",
              "    </tr>\n",
              "    <tr>\n",
              "      <th>40</th>\n",
              "      <td>28754.33</td>\n",
              "      <td>118546.05</td>\n",
              "      <td>172795.67</td>\n",
              "      <td>California</td>\n",
              "      <td>78239.91</td>\n",
              "    </tr>\n",
              "    <tr>\n",
              "      <th>41</th>\n",
              "      <td>27892.92</td>\n",
              "      <td>84710.77</td>\n",
              "      <td>164470.71</td>\n",
              "      <td>Florida</td>\n",
              "      <td>77798.83</td>\n",
              "    </tr>\n",
              "    <tr>\n",
              "      <th>42</th>\n",
              "      <td>23640.93</td>\n",
              "      <td>96189.63</td>\n",
              "      <td>148001.11</td>\n",
              "      <td>California</td>\n",
              "      <td>71498.49</td>\n",
              "    </tr>\n",
              "    <tr>\n",
              "      <th>43</th>\n",
              "      <td>15505.73</td>\n",
              "      <td>127382.30</td>\n",
              "      <td>35534.17</td>\n",
              "      <td>New York</td>\n",
              "      <td>69758.98</td>\n",
              "    </tr>\n",
              "    <tr>\n",
              "      <th>44</th>\n",
              "      <td>22177.74</td>\n",
              "      <td>154806.14</td>\n",
              "      <td>28334.72</td>\n",
              "      <td>California</td>\n",
              "      <td>65200.33</td>\n",
              "    </tr>\n",
              "    <tr>\n",
              "      <th>45</th>\n",
              "      <td>1000.23</td>\n",
              "      <td>124153.04</td>\n",
              "      <td>1903.93</td>\n",
              "      <td>New York</td>\n",
              "      <td>64926.08</td>\n",
              "    </tr>\n",
              "    <tr>\n",
              "      <th>46</th>\n",
              "      <td>1315.46</td>\n",
              "      <td>115816.21</td>\n",
              "      <td>297114.46</td>\n",
              "      <td>Florida</td>\n",
              "      <td>49490.75</td>\n",
              "    </tr>\n",
              "    <tr>\n",
              "      <th>47</th>\n",
              "      <td>0.00</td>\n",
              "      <td>135426.92</td>\n",
              "      <td>0.00</td>\n",
              "      <td>California</td>\n",
              "      <td>42559.73</td>\n",
              "    </tr>\n",
              "    <tr>\n",
              "      <th>48</th>\n",
              "      <td>542.05</td>\n",
              "      <td>51743.15</td>\n",
              "      <td>0.00</td>\n",
              "      <td>New York</td>\n",
              "      <td>35673.41</td>\n",
              "    </tr>\n",
              "    <tr>\n",
              "      <th>49</th>\n",
              "      <td>0.00</td>\n",
              "      <td>116983.80</td>\n",
              "      <td>45173.06</td>\n",
              "      <td>California</td>\n",
              "      <td>14681.40</td>\n",
              "    </tr>\n",
              "  </tbody>\n",
              "</table>\n",
              "</div>"
            ],
            "text/plain": [
              "    R&D Spend  Administration  Marketing Spend       State     Profit\n",
              "0   165349.20       136897.80        471784.10    New York  192261.83\n",
              "1   162597.70       151377.59        443898.53  California  191792.06\n",
              "2   153441.51       101145.55        407934.54     Florida  191050.39\n",
              "3   144372.41       118671.85        383199.62    New York  182901.99\n",
              "4   142107.34        91391.77        366168.42     Florida  166187.94\n",
              "5   131876.90        99814.71        362861.36    New York  156991.12\n",
              "6   134615.46       147198.87        127716.82  California  156122.51\n",
              "7   130298.13       145530.06        323876.68     Florida  155752.60\n",
              "8   120542.52       148718.95        311613.29    New York  152211.77\n",
              "9   123334.88       108679.17        304981.62  California  149759.96\n",
              "10  101913.08       110594.11        229160.95     Florida  146121.95\n",
              "11  100671.96        91790.61        249744.55  California  144259.40\n",
              "12   93863.75       127320.38        249839.44     Florida  141585.52\n",
              "13   91992.39       135495.07        252664.93  California  134307.35\n",
              "14  119943.24       156547.42        256512.92     Florida  132602.65\n",
              "15  114523.61       122616.84        261776.23    New York  129917.04\n",
              "16   78013.11       121597.55        264346.06  California  126992.93\n",
              "17   94657.16       145077.58        282574.31    New York  125370.37\n",
              "18   91749.16       114175.79        294919.57     Florida  124266.90\n",
              "19   86419.70       153514.11             0.00    New York  122776.86\n",
              "20   76253.86       113867.30        298664.47  California  118474.03\n",
              "21   78389.47       153773.43        299737.29    New York  111313.02\n",
              "22   73994.56       122782.75        303319.26     Florida  110352.25\n",
              "23   67532.53       105751.03        304768.73     Florida  108733.99\n",
              "24   77044.01        99281.34        140574.81    New York  108552.04\n",
              "25   64664.71       139553.16        137962.62  California  107404.34\n",
              "26   75328.87       144135.98        134050.07     Florida  105733.54\n",
              "27   72107.60       127864.55        353183.81    New York  105008.31\n",
              "28   66051.52       182645.56        118148.20     Florida  103282.38\n",
              "29   65605.48       153032.06        107138.38    New York  101004.64\n",
              "30   61994.48       115641.28         91131.24     Florida   99937.59\n",
              "31   61136.38       152701.92         88218.23    New York   97483.56\n",
              "32   63408.86       129219.61         46085.25  California   97427.84\n",
              "33   55493.95       103057.49        214634.81     Florida   96778.92\n",
              "34   46426.07       157693.92        210797.67  California   96712.80\n",
              "35   46014.02        85047.44        205517.64    New York   96479.51\n",
              "36   28663.76       127056.21        201126.82     Florida   90708.19\n",
              "37   44069.95        51283.14        197029.42  California   89949.14\n",
              "38   20229.59        65947.93        185265.10    New York   81229.06\n",
              "39   38558.51        82982.09        174999.30  California   81005.76\n",
              "40   28754.33       118546.05        172795.67  California   78239.91\n",
              "41   27892.92        84710.77        164470.71     Florida   77798.83\n",
              "42   23640.93        96189.63        148001.11  California   71498.49\n",
              "43   15505.73       127382.30         35534.17    New York   69758.98\n",
              "44   22177.74       154806.14         28334.72  California   65200.33\n",
              "45    1000.23       124153.04          1903.93    New York   64926.08\n",
              "46    1315.46       115816.21        297114.46     Florida   49490.75\n",
              "47       0.00       135426.92             0.00  California   42559.73\n",
              "48     542.05        51743.15             0.00    New York   35673.41\n",
              "49       0.00       116983.80         45173.06  California   14681.40"
            ]
          },
          "metadata": {},
          "execution_count": 3
        }
      ]
    },
    {
      "cell_type": "code",
      "metadata": {
        "colab": {
          "base_uri": "https://localhost:8080/"
        },
        "id": "NDEOM-M-rrRc",
        "outputId": "0ad0bb34-4b72-4743-b6c3-b57ca0d7a17b"
      },
      "source": [
        "data.columns"
      ],
      "execution_count": 4,
      "outputs": [
        {
          "output_type": "execute_result",
          "data": {
            "text/plain": [
              "Index(['R&D Spend', 'Administration', 'Marketing Spend', 'State', 'Profit'], dtype='object')"
            ]
          },
          "metadata": {},
          "execution_count": 4
        }
      ]
    },
    {
      "cell_type": "code",
      "metadata": {
        "colab": {
          "base_uri": "https://localhost:8080/",
          "height": 203
        },
        "id": "9CO7CHDZrwPZ",
        "outputId": "8ab4ee1e-3f39-4c1a-c6e1-9d068c937d80"
      },
      "source": [
        "data.head()"
      ],
      "execution_count": 5,
      "outputs": [
        {
          "output_type": "execute_result",
          "data": {
            "text/html": [
              "<div>\n",
              "<style scoped>\n",
              "    .dataframe tbody tr th:only-of-type {\n",
              "        vertical-align: middle;\n",
              "    }\n",
              "\n",
              "    .dataframe tbody tr th {\n",
              "        vertical-align: top;\n",
              "    }\n",
              "\n",
              "    .dataframe thead th {\n",
              "        text-align: right;\n",
              "    }\n",
              "</style>\n",
              "<table border=\"1\" class=\"dataframe\">\n",
              "  <thead>\n",
              "    <tr style=\"text-align: right;\">\n",
              "      <th></th>\n",
              "      <th>R&amp;D Spend</th>\n",
              "      <th>Administration</th>\n",
              "      <th>Marketing Spend</th>\n",
              "      <th>State</th>\n",
              "      <th>Profit</th>\n",
              "    </tr>\n",
              "  </thead>\n",
              "  <tbody>\n",
              "    <tr>\n",
              "      <th>0</th>\n",
              "      <td>165349.20</td>\n",
              "      <td>136897.80</td>\n",
              "      <td>471784.10</td>\n",
              "      <td>New York</td>\n",
              "      <td>192261.83</td>\n",
              "    </tr>\n",
              "    <tr>\n",
              "      <th>1</th>\n",
              "      <td>162597.70</td>\n",
              "      <td>151377.59</td>\n",
              "      <td>443898.53</td>\n",
              "      <td>California</td>\n",
              "      <td>191792.06</td>\n",
              "    </tr>\n",
              "    <tr>\n",
              "      <th>2</th>\n",
              "      <td>153441.51</td>\n",
              "      <td>101145.55</td>\n",
              "      <td>407934.54</td>\n",
              "      <td>Florida</td>\n",
              "      <td>191050.39</td>\n",
              "    </tr>\n",
              "    <tr>\n",
              "      <th>3</th>\n",
              "      <td>144372.41</td>\n",
              "      <td>118671.85</td>\n",
              "      <td>383199.62</td>\n",
              "      <td>New York</td>\n",
              "      <td>182901.99</td>\n",
              "    </tr>\n",
              "    <tr>\n",
              "      <th>4</th>\n",
              "      <td>142107.34</td>\n",
              "      <td>91391.77</td>\n",
              "      <td>366168.42</td>\n",
              "      <td>Florida</td>\n",
              "      <td>166187.94</td>\n",
              "    </tr>\n",
              "  </tbody>\n",
              "</table>\n",
              "</div>"
            ],
            "text/plain": [
              "   R&D Spend  Administration  Marketing Spend       State     Profit\n",
              "0  165349.20       136897.80        471784.10    New York  192261.83\n",
              "1  162597.70       151377.59        443898.53  California  191792.06\n",
              "2  153441.51       101145.55        407934.54     Florida  191050.39\n",
              "3  144372.41       118671.85        383199.62    New York  182901.99\n",
              "4  142107.34        91391.77        366168.42     Florida  166187.94"
            ]
          },
          "metadata": {},
          "execution_count": 5
        }
      ]
    },
    {
      "cell_type": "code",
      "metadata": {
        "colab": {
          "base_uri": "https://localhost:8080/",
          "height": 203
        },
        "id": "h0SdRPkkrz6_",
        "outputId": "8e784a33-8e65-4f6a-db80-d07e3f603384"
      },
      "source": [
        "data.tail()"
      ],
      "execution_count": 6,
      "outputs": [
        {
          "output_type": "execute_result",
          "data": {
            "text/html": [
              "<div>\n",
              "<style scoped>\n",
              "    .dataframe tbody tr th:only-of-type {\n",
              "        vertical-align: middle;\n",
              "    }\n",
              "\n",
              "    .dataframe tbody tr th {\n",
              "        vertical-align: top;\n",
              "    }\n",
              "\n",
              "    .dataframe thead th {\n",
              "        text-align: right;\n",
              "    }\n",
              "</style>\n",
              "<table border=\"1\" class=\"dataframe\">\n",
              "  <thead>\n",
              "    <tr style=\"text-align: right;\">\n",
              "      <th></th>\n",
              "      <th>R&amp;D Spend</th>\n",
              "      <th>Administration</th>\n",
              "      <th>Marketing Spend</th>\n",
              "      <th>State</th>\n",
              "      <th>Profit</th>\n",
              "    </tr>\n",
              "  </thead>\n",
              "  <tbody>\n",
              "    <tr>\n",
              "      <th>45</th>\n",
              "      <td>1000.23</td>\n",
              "      <td>124153.04</td>\n",
              "      <td>1903.93</td>\n",
              "      <td>New York</td>\n",
              "      <td>64926.08</td>\n",
              "    </tr>\n",
              "    <tr>\n",
              "      <th>46</th>\n",
              "      <td>1315.46</td>\n",
              "      <td>115816.21</td>\n",
              "      <td>297114.46</td>\n",
              "      <td>Florida</td>\n",
              "      <td>49490.75</td>\n",
              "    </tr>\n",
              "    <tr>\n",
              "      <th>47</th>\n",
              "      <td>0.00</td>\n",
              "      <td>135426.92</td>\n",
              "      <td>0.00</td>\n",
              "      <td>California</td>\n",
              "      <td>42559.73</td>\n",
              "    </tr>\n",
              "    <tr>\n",
              "      <th>48</th>\n",
              "      <td>542.05</td>\n",
              "      <td>51743.15</td>\n",
              "      <td>0.00</td>\n",
              "      <td>New York</td>\n",
              "      <td>35673.41</td>\n",
              "    </tr>\n",
              "    <tr>\n",
              "      <th>49</th>\n",
              "      <td>0.00</td>\n",
              "      <td>116983.80</td>\n",
              "      <td>45173.06</td>\n",
              "      <td>California</td>\n",
              "      <td>14681.40</td>\n",
              "    </tr>\n",
              "  </tbody>\n",
              "</table>\n",
              "</div>"
            ],
            "text/plain": [
              "    R&D Spend  Administration  Marketing Spend       State    Profit\n",
              "45    1000.23       124153.04          1903.93    New York  64926.08\n",
              "46    1315.46       115816.21        297114.46     Florida  49490.75\n",
              "47       0.00       135426.92             0.00  California  42559.73\n",
              "48     542.05        51743.15             0.00    New York  35673.41\n",
              "49       0.00       116983.80         45173.06  California  14681.40"
            ]
          },
          "metadata": {},
          "execution_count": 6
        }
      ]
    },
    {
      "cell_type": "code",
      "metadata": {
        "id": "mX4gGDrEr4WV"
      },
      "source": [
        "X=data.iloc[:,0:-1].values"
      ],
      "execution_count": 7,
      "outputs": []
    },
    {
      "cell_type": "code",
      "metadata": {
        "colab": {
          "base_uri": "https://localhost:8080/"
        },
        "id": "UAmX05hBr_cy",
        "outputId": "baf34d10-1e93-4a85-dac6-34920310e468"
      },
      "source": [
        "X"
      ],
      "execution_count": 8,
      "outputs": [
        {
          "output_type": "execute_result",
          "data": {
            "text/plain": [
              "array([[165349.2, 136897.8, 471784.1, 'New York'],\n",
              "       [162597.7, 151377.59, 443898.53, 'California'],\n",
              "       [153441.51, 101145.55, 407934.54, 'Florida'],\n",
              "       [144372.41, 118671.85, 383199.62, 'New York'],\n",
              "       [142107.34, 91391.77, 366168.42, 'Florida'],\n",
              "       [131876.9, 99814.71, 362861.36, 'New York'],\n",
              "       [134615.46, 147198.87, 127716.82, 'California'],\n",
              "       [130298.13, 145530.06, 323876.68, 'Florida'],\n",
              "       [120542.52, 148718.95, 311613.29, 'New York'],\n",
              "       [123334.88, 108679.17, 304981.62, 'California'],\n",
              "       [101913.08, 110594.11, 229160.95, 'Florida'],\n",
              "       [100671.96, 91790.61, 249744.55, 'California'],\n",
              "       [93863.75, 127320.38, 249839.44, 'Florida'],\n",
              "       [91992.39, 135495.07, 252664.93, 'California'],\n",
              "       [119943.24, 156547.42, 256512.92, 'Florida'],\n",
              "       [114523.61, 122616.84, 261776.23, 'New York'],\n",
              "       [78013.11, 121597.55, 264346.06, 'California'],\n",
              "       [94657.16, 145077.58, 282574.31, 'New York'],\n",
              "       [91749.16, 114175.79, 294919.57, 'Florida'],\n",
              "       [86419.7, 153514.11, 0.0, 'New York'],\n",
              "       [76253.86, 113867.3, 298664.47, 'California'],\n",
              "       [78389.47, 153773.43, 299737.29, 'New York'],\n",
              "       [73994.56, 122782.75, 303319.26, 'Florida'],\n",
              "       [67532.53, 105751.03, 304768.73, 'Florida'],\n",
              "       [77044.01, 99281.34, 140574.81, 'New York'],\n",
              "       [64664.71, 139553.16, 137962.62, 'California'],\n",
              "       [75328.87, 144135.98, 134050.07, 'Florida'],\n",
              "       [72107.6, 127864.55, 353183.81, 'New York'],\n",
              "       [66051.52, 182645.56, 118148.2, 'Florida'],\n",
              "       [65605.48, 153032.06, 107138.38, 'New York'],\n",
              "       [61994.48, 115641.28, 91131.24, 'Florida'],\n",
              "       [61136.38, 152701.92, 88218.23, 'New York'],\n",
              "       [63408.86, 129219.61, 46085.25, 'California'],\n",
              "       [55493.95, 103057.49, 214634.81, 'Florida'],\n",
              "       [46426.07, 157693.92, 210797.67, 'California'],\n",
              "       [46014.02, 85047.44, 205517.64, 'New York'],\n",
              "       [28663.76, 127056.21, 201126.82, 'Florida'],\n",
              "       [44069.95, 51283.14, 197029.42, 'California'],\n",
              "       [20229.59, 65947.93, 185265.1, 'New York'],\n",
              "       [38558.51, 82982.09, 174999.3, 'California'],\n",
              "       [28754.33, 118546.05, 172795.67, 'California'],\n",
              "       [27892.92, 84710.77, 164470.71, 'Florida'],\n",
              "       [23640.93, 96189.63, 148001.11, 'California'],\n",
              "       [15505.73, 127382.3, 35534.17, 'New York'],\n",
              "       [22177.74, 154806.14, 28334.72, 'California'],\n",
              "       [1000.23, 124153.04, 1903.93, 'New York'],\n",
              "       [1315.46, 115816.21, 297114.46, 'Florida'],\n",
              "       [0.0, 135426.92, 0.0, 'California'],\n",
              "       [542.05, 51743.15, 0.0, 'New York'],\n",
              "       [0.0, 116983.8, 45173.06, 'California']], dtype=object)"
            ]
          },
          "metadata": {},
          "execution_count": 8
        }
      ]
    },
    {
      "cell_type": "code",
      "metadata": {
        "colab": {
          "base_uri": "https://localhost:8080/"
        },
        "id": "_k74YVyusMhl",
        "outputId": "e4a95c09-4c84-4acd-8bf9-d9d33d3b1f83"
      },
      "source": [
        "Y=data.iloc[:,-1].values\n",
        "Y"
      ],
      "execution_count": 9,
      "outputs": [
        {
          "output_type": "execute_result",
          "data": {
            "text/plain": [
              "array([192261.83, 191792.06, 191050.39, 182901.99, 166187.94, 156991.12,\n",
              "       156122.51, 155752.6 , 152211.77, 149759.96, 146121.95, 144259.4 ,\n",
              "       141585.52, 134307.35, 132602.65, 129917.04, 126992.93, 125370.37,\n",
              "       124266.9 , 122776.86, 118474.03, 111313.02, 110352.25, 108733.99,\n",
              "       108552.04, 107404.34, 105733.54, 105008.31, 103282.38, 101004.64,\n",
              "        99937.59,  97483.56,  97427.84,  96778.92,  96712.8 ,  96479.51,\n",
              "        90708.19,  89949.14,  81229.06,  81005.76,  78239.91,  77798.83,\n",
              "        71498.49,  69758.98,  65200.33,  64926.08,  49490.75,  42559.73,\n",
              "        35673.41,  14681.4 ])"
            ]
          },
          "metadata": {},
          "execution_count": 9
        }
      ]
    },
    {
      "cell_type": "code",
      "metadata": {
        "colab": {
          "base_uri": "https://localhost:8080/"
        },
        "id": "eRoI3aH8sXct",
        "outputId": "b273580d-3f24-4a6e-8f13-b7f3826cda20"
      },
      "source": [
        "!pip install sklearn"
      ],
      "execution_count": 10,
      "outputs": [
        {
          "output_type": "stream",
          "name": "stdout",
          "text": [
            "Requirement already satisfied: sklearn in /usr/local/lib/python3.7/dist-packages (0.0)\n",
            "Requirement already satisfied: scikit-learn in /usr/local/lib/python3.7/dist-packages (from sklearn) (0.22.2.post1)\n",
            "Requirement already satisfied: numpy>=1.11.0 in /usr/local/lib/python3.7/dist-packages (from scikit-learn->sklearn) (1.19.5)\n",
            "Requirement already satisfied: scipy>=0.17.0 in /usr/local/lib/python3.7/dist-packages (from scikit-learn->sklearn) (1.4.1)\n",
            "Requirement already satisfied: joblib>=0.11 in /usr/local/lib/python3.7/dist-packages (from scikit-learn->sklearn) (1.1.0)\n"
          ]
        }
      ]
    },
    {
      "cell_type": "code",
      "metadata": {
        "id": "gwtdgMChsezY"
      },
      "source": [
        ""
      ],
      "execution_count": null,
      "outputs": []
    },
    {
      "cell_type": "code",
      "metadata": {
        "id": "OhTQt9rXsfC1"
      },
      "source": [
        "from sklearn.compose import ColumnTransformer\n",
        "from sklearn.preprocessing import OneHotEncoder\n",
        "ct=ColumnTransformer(transformers=[('encoder',OneHotEncoder(),[3])], remainder='passthrough')\n",
        "X=ct.fit_transform(X)"
      ],
      "execution_count": 11,
      "outputs": []
    },
    {
      "cell_type": "code",
      "metadata": {
        "colab": {
          "base_uri": "https://localhost:8080/"
        },
        "id": "e5OlaCoLtE9N",
        "outputId": "d79a5753-bd8a-47f4-deab-1292196972c6"
      },
      "source": [
        "X"
      ],
      "execution_count": 12,
      "outputs": [
        {
          "output_type": "execute_result",
          "data": {
            "text/plain": [
              "array([[0.0, 0.0, 1.0, 165349.2, 136897.8, 471784.1],\n",
              "       [1.0, 0.0, 0.0, 162597.7, 151377.59, 443898.53],\n",
              "       [0.0, 1.0, 0.0, 153441.51, 101145.55, 407934.54],\n",
              "       [0.0, 0.0, 1.0, 144372.41, 118671.85, 383199.62],\n",
              "       [0.0, 1.0, 0.0, 142107.34, 91391.77, 366168.42],\n",
              "       [0.0, 0.0, 1.0, 131876.9, 99814.71, 362861.36],\n",
              "       [1.0, 0.0, 0.0, 134615.46, 147198.87, 127716.82],\n",
              "       [0.0, 1.0, 0.0, 130298.13, 145530.06, 323876.68],\n",
              "       [0.0, 0.0, 1.0, 120542.52, 148718.95, 311613.29],\n",
              "       [1.0, 0.0, 0.0, 123334.88, 108679.17, 304981.62],\n",
              "       [0.0, 1.0, 0.0, 101913.08, 110594.11, 229160.95],\n",
              "       [1.0, 0.0, 0.0, 100671.96, 91790.61, 249744.55],\n",
              "       [0.0, 1.0, 0.0, 93863.75, 127320.38, 249839.44],\n",
              "       [1.0, 0.0, 0.0, 91992.39, 135495.07, 252664.93],\n",
              "       [0.0, 1.0, 0.0, 119943.24, 156547.42, 256512.92],\n",
              "       [0.0, 0.0, 1.0, 114523.61, 122616.84, 261776.23],\n",
              "       [1.0, 0.0, 0.0, 78013.11, 121597.55, 264346.06],\n",
              "       [0.0, 0.0, 1.0, 94657.16, 145077.58, 282574.31],\n",
              "       [0.0, 1.0, 0.0, 91749.16, 114175.79, 294919.57],\n",
              "       [0.0, 0.0, 1.0, 86419.7, 153514.11, 0.0],\n",
              "       [1.0, 0.0, 0.0, 76253.86, 113867.3, 298664.47],\n",
              "       [0.0, 0.0, 1.0, 78389.47, 153773.43, 299737.29],\n",
              "       [0.0, 1.0, 0.0, 73994.56, 122782.75, 303319.26],\n",
              "       [0.0, 1.0, 0.0, 67532.53, 105751.03, 304768.73],\n",
              "       [0.0, 0.0, 1.0, 77044.01, 99281.34, 140574.81],\n",
              "       [1.0, 0.0, 0.0, 64664.71, 139553.16, 137962.62],\n",
              "       [0.0, 1.0, 0.0, 75328.87, 144135.98, 134050.07],\n",
              "       [0.0, 0.0, 1.0, 72107.6, 127864.55, 353183.81],\n",
              "       [0.0, 1.0, 0.0, 66051.52, 182645.56, 118148.2],\n",
              "       [0.0, 0.0, 1.0, 65605.48, 153032.06, 107138.38],\n",
              "       [0.0, 1.0, 0.0, 61994.48, 115641.28, 91131.24],\n",
              "       [0.0, 0.0, 1.0, 61136.38, 152701.92, 88218.23],\n",
              "       [1.0, 0.0, 0.0, 63408.86, 129219.61, 46085.25],\n",
              "       [0.0, 1.0, 0.0, 55493.95, 103057.49, 214634.81],\n",
              "       [1.0, 0.0, 0.0, 46426.07, 157693.92, 210797.67],\n",
              "       [0.0, 0.0, 1.0, 46014.02, 85047.44, 205517.64],\n",
              "       [0.0, 1.0, 0.0, 28663.76, 127056.21, 201126.82],\n",
              "       [1.0, 0.0, 0.0, 44069.95, 51283.14, 197029.42],\n",
              "       [0.0, 0.0, 1.0, 20229.59, 65947.93, 185265.1],\n",
              "       [1.0, 0.0, 0.0, 38558.51, 82982.09, 174999.3],\n",
              "       [1.0, 0.0, 0.0, 28754.33, 118546.05, 172795.67],\n",
              "       [0.0, 1.0, 0.0, 27892.92, 84710.77, 164470.71],\n",
              "       [1.0, 0.0, 0.0, 23640.93, 96189.63, 148001.11],\n",
              "       [0.0, 0.0, 1.0, 15505.73, 127382.3, 35534.17],\n",
              "       [1.0, 0.0, 0.0, 22177.74, 154806.14, 28334.72],\n",
              "       [0.0, 0.0, 1.0, 1000.23, 124153.04, 1903.93],\n",
              "       [0.0, 1.0, 0.0, 1315.46, 115816.21, 297114.46],\n",
              "       [1.0, 0.0, 0.0, 0.0, 135426.92, 0.0],\n",
              "       [0.0, 0.0, 1.0, 542.05, 51743.15, 0.0],\n",
              "       [1.0, 0.0, 0.0, 0.0, 116983.8, 45173.06]], dtype=object)"
            ]
          },
          "metadata": {},
          "execution_count": 12
        }
      ]
    },
    {
      "cell_type": "code",
      "metadata": {
        "colab": {
          "base_uri": "https://localhost:8080/"
        },
        "id": "7laS19C6tIri",
        "outputId": "902ead06-4c97-48c6-c56b-cb01dadbee1c"
      },
      "source": [
        "!pip install StandardScaler"
      ],
      "execution_count": 13,
      "outputs": [
        {
          "output_type": "stream",
          "name": "stdout",
          "text": [
            "Collecting StandardScaler\n",
            "  Downloading StandardScaler-0.5.tar.gz (2.4 kB)\n",
            "Requirement already satisfied: numpy in /usr/local/lib/python3.7/dist-packages (from StandardScaler) (1.19.5)\n",
            "Requirement already satisfied: pandas in /usr/local/lib/python3.7/dist-packages (from StandardScaler) (1.1.5)\n",
            "Requirement already satisfied: scikit-learn in /usr/local/lib/python3.7/dist-packages (from StandardScaler) (0.22.2.post1)\n",
            "Collecting scikit-elm\n",
            "  Downloading scikit_elm-0.21a0-py3-none-any.whl (30 kB)\n",
            "Requirement already satisfied: dask in /usr/local/lib/python3.7/dist-packages (from StandardScaler) (2.12.0)\n",
            "Requirement already satisfied: python-dateutil>=2.7.3 in /usr/local/lib/python3.7/dist-packages (from pandas->StandardScaler) (2.8.2)\n",
            "Requirement already satisfied: pytz>=2017.2 in /usr/local/lib/python3.7/dist-packages (from pandas->StandardScaler) (2018.9)\n",
            "Requirement already satisfied: six>=1.5 in /usr/local/lib/python3.7/dist-packages (from python-dateutil>=2.7.3->pandas->StandardScaler) (1.15.0)\n",
            "Requirement already satisfied: scipy in /usr/local/lib/python3.7/dist-packages (from scikit-elm->StandardScaler) (1.4.1)\n",
            "Requirement already satisfied: joblib>=0.11 in /usr/local/lib/python3.7/dist-packages (from scikit-learn->StandardScaler) (1.1.0)\n",
            "Building wheels for collected packages: StandardScaler\n",
            "  Building wheel for StandardScaler (setup.py) ... \u001b[?25l\u001b[?25hdone\n",
            "  Created wheel for StandardScaler: filename=StandardScaler-0.5-py3-none-any.whl size=2613 sha256=84b3e54d67ee82bc1b264714bdbc0f3e411dab8d09fd5fc4c93fa1ce60d52a08\n",
            "  Stored in directory: /root/.cache/pip/wheels/96/4c/35/4b72d578909a5b4812388c124c58f04651bf2423981ab749b3\n",
            "Successfully built StandardScaler\n",
            "Installing collected packages: scikit-elm, StandardScaler\n",
            "Successfully installed StandardScaler-0.5 scikit-elm-0.21a0\n"
          ]
        }
      ]
    },
    {
      "cell_type": "code",
      "metadata": {
        "colab": {
          "base_uri": "https://localhost:8080/"
        },
        "id": "fgWeHUPttUJM",
        "outputId": "d09d717c-5652-48e9-8c4f-f0a89eea041a"
      },
      "source": [
        "from sklearn.preprocessing import StandardScaler\n",
        "sc=StandardScaler()\n",
        "X[:,0:3]=sc.fit_transform(X[:,0:3])\n",
        "X"
      ],
      "execution_count": 14,
      "outputs": [
        {
          "output_type": "execute_result",
          "data": {
            "text/plain": [
              "array([[-0.7177405625652736, -0.6859943405700356, 1.3932610920384718,\n",
              "        165349.2, 136897.8, 471784.1],\n",
              "       [1.3932610920384723, -0.6859943405700356, -0.7177405625652735,\n",
              "        162597.7, 151377.59, 443898.53],\n",
              "       [-0.7177405625652736, 1.4577379737113254, -0.7177405625652735,\n",
              "        153441.51, 101145.55, 407934.54],\n",
              "       [-0.7177405625652736, -0.6859943405700356, 1.3932610920384718,\n",
              "        144372.41, 118671.85, 383199.62],\n",
              "       [-0.7177405625652736, 1.4577379737113254, -0.7177405625652735,\n",
              "        142107.34, 91391.77, 366168.42],\n",
              "       [-0.7177405625652736, -0.6859943405700356, 1.3932610920384718,\n",
              "        131876.9, 99814.71, 362861.36],\n",
              "       [1.3932610920384723, -0.6859943405700356, -0.7177405625652735,\n",
              "        134615.46, 147198.87, 127716.82],\n",
              "       [-0.7177405625652736, 1.4577379737113254, -0.7177405625652735,\n",
              "        130298.13, 145530.06, 323876.68],\n",
              "       [-0.7177405625652736, -0.6859943405700356, 1.3932610920384718,\n",
              "        120542.52, 148718.95, 311613.29],\n",
              "       [1.3932610920384723, -0.6859943405700356, -0.7177405625652735,\n",
              "        123334.88, 108679.17, 304981.62],\n",
              "       [-0.7177405625652736, 1.4577379737113254, -0.7177405625652735,\n",
              "        101913.08, 110594.11, 229160.95],\n",
              "       [1.3932610920384723, -0.6859943405700356, -0.7177405625652735,\n",
              "        100671.96, 91790.61, 249744.55],\n",
              "       [-0.7177405625652736, 1.4577379737113254, -0.7177405625652735,\n",
              "        93863.75, 127320.38, 249839.44],\n",
              "       [1.3932610920384723, -0.6859943405700356, -0.7177405625652735,\n",
              "        91992.39, 135495.07, 252664.93],\n",
              "       [-0.7177405625652736, 1.4577379737113254, -0.7177405625652735,\n",
              "        119943.24, 156547.42, 256512.92],\n",
              "       [-0.7177405625652736, -0.6859943405700356, 1.3932610920384718,\n",
              "        114523.61, 122616.84, 261776.23],\n",
              "       [1.3932610920384723, -0.6859943405700356, -0.7177405625652735,\n",
              "        78013.11, 121597.55, 264346.06],\n",
              "       [-0.7177405625652736, -0.6859943405700356, 1.3932610920384718,\n",
              "        94657.16, 145077.58, 282574.31],\n",
              "       [-0.7177405625652736, 1.4577379737113254, -0.7177405625652735,\n",
              "        91749.16, 114175.79, 294919.57],\n",
              "       [-0.7177405625652736, -0.6859943405700356, 1.3932610920384718,\n",
              "        86419.7, 153514.11, 0.0],\n",
              "       [1.3932610920384723, -0.6859943405700356, -0.7177405625652735,\n",
              "        76253.86, 113867.3, 298664.47],\n",
              "       [-0.7177405625652736, -0.6859943405700356, 1.3932610920384718,\n",
              "        78389.47, 153773.43, 299737.29],\n",
              "       [-0.7177405625652736, 1.4577379737113254, -0.7177405625652735,\n",
              "        73994.56, 122782.75, 303319.26],\n",
              "       [-0.7177405625652736, 1.4577379737113254, -0.7177405625652735,\n",
              "        67532.53, 105751.03, 304768.73],\n",
              "       [-0.7177405625652736, -0.6859943405700356, 1.3932610920384718,\n",
              "        77044.01, 99281.34, 140574.81],\n",
              "       [1.3932610920384723, -0.6859943405700356, -0.7177405625652735,\n",
              "        64664.71, 139553.16, 137962.62],\n",
              "       [-0.7177405625652736, 1.4577379737113254, -0.7177405625652735,\n",
              "        75328.87, 144135.98, 134050.07],\n",
              "       [-0.7177405625652736, -0.6859943405700356, 1.3932610920384718,\n",
              "        72107.6, 127864.55, 353183.81],\n",
              "       [-0.7177405625652736, 1.4577379737113254, -0.7177405625652735,\n",
              "        66051.52, 182645.56, 118148.2],\n",
              "       [-0.7177405625652736, -0.6859943405700356, 1.3932610920384718,\n",
              "        65605.48, 153032.06, 107138.38],\n",
              "       [-0.7177405625652736, 1.4577379737113254, -0.7177405625652735,\n",
              "        61994.48, 115641.28, 91131.24],\n",
              "       [-0.7177405625652736, -0.6859943405700356, 1.3932610920384718,\n",
              "        61136.38, 152701.92, 88218.23],\n",
              "       [1.3932610920384723, -0.6859943405700356, -0.7177405625652735,\n",
              "        63408.86, 129219.61, 46085.25],\n",
              "       [-0.7177405625652736, 1.4577379737113254, -0.7177405625652735,\n",
              "        55493.95, 103057.49, 214634.81],\n",
              "       [1.3932610920384723, -0.6859943405700356, -0.7177405625652735,\n",
              "        46426.07, 157693.92, 210797.67],\n",
              "       [-0.7177405625652736, -0.6859943405700356, 1.3932610920384718,\n",
              "        46014.02, 85047.44, 205517.64],\n",
              "       [-0.7177405625652736, 1.4577379737113254, -0.7177405625652735,\n",
              "        28663.76, 127056.21, 201126.82],\n",
              "       [1.3932610920384723, -0.6859943405700356, -0.7177405625652735,\n",
              "        44069.95, 51283.14, 197029.42],\n",
              "       [-0.7177405625652736, -0.6859943405700356, 1.3932610920384718,\n",
              "        20229.59, 65947.93, 185265.1],\n",
              "       [1.3932610920384723, -0.6859943405700356, -0.7177405625652735,\n",
              "        38558.51, 82982.09, 174999.3],\n",
              "       [1.3932610920384723, -0.6859943405700356, -0.7177405625652735,\n",
              "        28754.33, 118546.05, 172795.67],\n",
              "       [-0.7177405625652736, 1.4577379737113254, -0.7177405625652735,\n",
              "        27892.92, 84710.77, 164470.71],\n",
              "       [1.3932610920384723, -0.6859943405700356, -0.7177405625652735,\n",
              "        23640.93, 96189.63, 148001.11],\n",
              "       [-0.7177405625652736, -0.6859943405700356, 1.3932610920384718,\n",
              "        15505.73, 127382.3, 35534.17],\n",
              "       [1.3932610920384723, -0.6859943405700356, -0.7177405625652735,\n",
              "        22177.74, 154806.14, 28334.72],\n",
              "       [-0.7177405625652736, -0.6859943405700356, 1.3932610920384718,\n",
              "        1000.23, 124153.04, 1903.93],\n",
              "       [-0.7177405625652736, 1.4577379737113254, -0.7177405625652735,\n",
              "        1315.46, 115816.21, 297114.46],\n",
              "       [1.3932610920384723, -0.6859943405700356, -0.7177405625652735,\n",
              "        0.0, 135426.92, 0.0],\n",
              "       [-0.7177405625652736, -0.6859943405700356, 1.3932610920384718,\n",
              "        542.05, 51743.15, 0.0],\n",
              "       [1.3932610920384723, -0.6859943405700356, -0.7177405625652735,\n",
              "        0.0, 116983.8, 45173.06]], dtype=object)"
            ]
          },
          "metadata": {},
          "execution_count": 14
        }
      ]
    },
    {
      "cell_type": "code",
      "metadata": {
        "id": "8Pk676CPtrE3"
      },
      "source": [
        "from sklearn.model_selection import train_test_split\n",
        "X_train,X_test,Y_train,Y_test=train_test_split(X,Y,test_size=0.2)"
      ],
      "execution_count": 15,
      "outputs": []
    },
    {
      "cell_type": "code",
      "metadata": {
        "colab": {
          "base_uri": "https://localhost:8080/"
        },
        "id": "N9nkzXzcuGf2",
        "outputId": "4f1e8064-9fd0-4798-f778-e56314fc3b8e"
      },
      "source": [
        "X_train"
      ],
      "execution_count": 16,
      "outputs": [
        {
          "output_type": "execute_result",
          "data": {
            "text/plain": [
              "array([[-0.7177405625652736, -0.6859943405700356, 1.3932610920384718,\n",
              "        72107.6, 127864.55, 353183.81],\n",
              "       [-0.7177405625652736, -0.6859943405700356, 1.3932610920384718,\n",
              "        15505.73, 127382.3, 35534.17],\n",
              "       [-0.7177405625652736, -0.6859943405700356, 1.3932610920384718,\n",
              "        114523.61, 122616.84, 261776.23],\n",
              "       [1.3932610920384723, -0.6859943405700356, -0.7177405625652735,\n",
              "        38558.51, 82982.09, 174999.3],\n",
              "       [1.3932610920384723, -0.6859943405700356, -0.7177405625652735,\n",
              "        28754.33, 118546.05, 172795.67],\n",
              "       [-0.7177405625652736, 1.4577379737113254, -0.7177405625652735,\n",
              "        55493.95, 103057.49, 214634.81],\n",
              "       [-0.7177405625652736, -0.6859943405700356, 1.3932610920384718,\n",
              "        542.05, 51743.15, 0.0],\n",
              "       [-0.7177405625652736, 1.4577379737113254, -0.7177405625652735,\n",
              "        119943.24, 156547.42, 256512.92],\n",
              "       [-0.7177405625652736, 1.4577379737113254, -0.7177405625652735,\n",
              "        66051.52, 182645.56, 118148.2],\n",
              "       [1.3932610920384723, -0.6859943405700356, -0.7177405625652735,\n",
              "        123334.88, 108679.17, 304981.62],\n",
              "       [-0.7177405625652736, 1.4577379737113254, -0.7177405625652735,\n",
              "        73994.56, 122782.75, 303319.26],\n",
              "       [-0.7177405625652736, 1.4577379737113254, -0.7177405625652735,\n",
              "        61994.48, 115641.28, 91131.24],\n",
              "       [1.3932610920384723, -0.6859943405700356, -0.7177405625652735,\n",
              "        44069.95, 51283.14, 197029.42],\n",
              "       [-0.7177405625652736, -0.6859943405700356, 1.3932610920384718,\n",
              "        120542.52, 148718.95, 311613.29],\n",
              "       [-0.7177405625652736, 1.4577379737113254, -0.7177405625652735,\n",
              "        142107.34, 91391.77, 366168.42],\n",
              "       [-0.7177405625652736, -0.6859943405700356, 1.3932610920384718,\n",
              "        131876.9, 99814.71, 362861.36],\n",
              "       [1.3932610920384723, -0.6859943405700356, -0.7177405625652735,\n",
              "        23640.93, 96189.63, 148001.11],\n",
              "       [1.3932610920384723, -0.6859943405700356, -0.7177405625652735,\n",
              "        0.0, 116983.8, 45173.06],\n",
              "       [-0.7177405625652736, -0.6859943405700356, 1.3932610920384718,\n",
              "        77044.01, 99281.34, 140574.81],\n",
              "       [-0.7177405625652736, -0.6859943405700356, 1.3932610920384718,\n",
              "        86419.7, 153514.11, 0.0],\n",
              "       [1.3932610920384723, -0.6859943405700356, -0.7177405625652735,\n",
              "        162597.7, 151377.59, 443898.53],\n",
              "       [-0.7177405625652736, 1.4577379737113254, -0.7177405625652735,\n",
              "        101913.08, 110594.11, 229160.95],\n",
              "       [-0.7177405625652736, -0.6859943405700356, 1.3932610920384718,\n",
              "        65605.48, 153032.06, 107138.38],\n",
              "       [1.3932610920384723, -0.6859943405700356, -0.7177405625652735,\n",
              "        63408.86, 129219.61, 46085.25],\n",
              "       [1.3932610920384723, -0.6859943405700356, -0.7177405625652735,\n",
              "        78013.11, 121597.55, 264346.06],\n",
              "       [1.3932610920384723, -0.6859943405700356, -0.7177405625652735,\n",
              "        91992.39, 135495.07, 252664.93],\n",
              "       [-0.7177405625652736, 1.4577379737113254, -0.7177405625652735,\n",
              "        93863.75, 127320.38, 249839.44],\n",
              "       [1.3932610920384723, -0.6859943405700356, -0.7177405625652735,\n",
              "        22177.74, 154806.14, 28334.72],\n",
              "       [-0.7177405625652736, -0.6859943405700356, 1.3932610920384718,\n",
              "        94657.16, 145077.58, 282574.31],\n",
              "       [-0.7177405625652736, 1.4577379737113254, -0.7177405625652735,\n",
              "        28663.76, 127056.21, 201126.82],\n",
              "       [-0.7177405625652736, 1.4577379737113254, -0.7177405625652735,\n",
              "        67532.53, 105751.03, 304768.73],\n",
              "       [-0.7177405625652736, -0.6859943405700356, 1.3932610920384718,\n",
              "        61136.38, 152701.92, 88218.23],\n",
              "       [1.3932610920384723, -0.6859943405700356, -0.7177405625652735,\n",
              "        76253.86, 113867.3, 298664.47],\n",
              "       [-0.7177405625652736, 1.4577379737113254, -0.7177405625652735,\n",
              "        130298.13, 145530.06, 323876.68],\n",
              "       [-0.7177405625652736, -0.6859943405700356, 1.3932610920384718,\n",
              "        46014.02, 85047.44, 205517.64],\n",
              "       [-0.7177405625652736, -0.6859943405700356, 1.3932610920384718,\n",
              "        20229.59, 65947.93, 185265.1],\n",
              "       [-0.7177405625652736, 1.4577379737113254, -0.7177405625652735,\n",
              "        1315.46, 115816.21, 297114.46],\n",
              "       [-0.7177405625652736, -0.6859943405700356, 1.3932610920384718,\n",
              "        1000.23, 124153.04, 1903.93],\n",
              "       [-0.7177405625652736, -0.6859943405700356, 1.3932610920384718,\n",
              "        78389.47, 153773.43, 299737.29],\n",
              "       [-0.7177405625652736, 1.4577379737113254, -0.7177405625652735,\n",
              "        153441.51, 101145.55, 407934.54]], dtype=object)"
            ]
          },
          "metadata": {},
          "execution_count": 16
        }
      ]
    },
    {
      "cell_type": "code",
      "metadata": {
        "colab": {
          "base_uri": "https://localhost:8080/"
        },
        "id": "2X2qwIDeuLV_",
        "outputId": "6b50b667-6bfd-454a-cc61-aebe76f57805"
      },
      "source": [
        "X_test"
      ],
      "execution_count": 17,
      "outputs": [
        {
          "output_type": "execute_result",
          "data": {
            "text/plain": [
              "array([[-0.7177405625652736, 1.4577379737113254, -0.7177405625652735,\n",
              "        75328.87, 144135.98, 134050.07],\n",
              "       [1.3932610920384723, -0.6859943405700356, -0.7177405625652735,\n",
              "        64664.71, 139553.16, 137962.62],\n",
              "       [1.3932610920384723, -0.6859943405700356, -0.7177405625652735,\n",
              "        46426.07, 157693.92, 210797.67],\n",
              "       [1.3932610920384723, -0.6859943405700356, -0.7177405625652735,\n",
              "        134615.46, 147198.87, 127716.82],\n",
              "       [1.3932610920384723, -0.6859943405700356, -0.7177405625652735,\n",
              "        0.0, 135426.92, 0.0],\n",
              "       [-0.7177405625652736, -0.6859943405700356, 1.3932610920384718,\n",
              "        144372.41, 118671.85, 383199.62],\n",
              "       [-0.7177405625652736, -0.6859943405700356, 1.3932610920384718,\n",
              "        165349.2, 136897.8, 471784.1],\n",
              "       [1.3932610920384723, -0.6859943405700356, -0.7177405625652735,\n",
              "        100671.96, 91790.61, 249744.55],\n",
              "       [-0.7177405625652736, 1.4577379737113254, -0.7177405625652735,\n",
              "        91749.16, 114175.79, 294919.57],\n",
              "       [-0.7177405625652736, 1.4577379737113254, -0.7177405625652735,\n",
              "        27892.92, 84710.77, 164470.71]], dtype=object)"
            ]
          },
          "metadata": {},
          "execution_count": 17
        }
      ]
    },
    {
      "cell_type": "code",
      "metadata": {
        "colab": {
          "base_uri": "https://localhost:8080/"
        },
        "id": "7VgQ3m9TuPEf",
        "outputId": "34ae2e1f-f200-47dd-80df-0750bca6c01b"
      },
      "source": [
        "Y_train"
      ],
      "execution_count": 18,
      "outputs": [
        {
          "output_type": "execute_result",
          "data": {
            "text/plain": [
              "array([105008.31,  69758.98, 129917.04,  81005.76,  78239.91,  96778.92,\n",
              "        35673.41, 132602.65, 103282.38, 149759.96, 110352.25,  99937.59,\n",
              "        89949.14, 152211.77, 166187.94, 156991.12,  71498.49,  14681.4 ,\n",
              "       108552.04, 122776.86, 191792.06, 146121.95, 101004.64,  97427.84,\n",
              "       126992.93, 134307.35, 141585.52,  65200.33, 125370.37,  90708.19,\n",
              "       108733.99,  97483.56, 118474.03, 155752.6 ,  96479.51,  81229.06,\n",
              "        49490.75,  64926.08, 111313.02, 191050.39])"
            ]
          },
          "metadata": {},
          "execution_count": 18
        }
      ]
    },
    {
      "cell_type": "code",
      "metadata": {
        "colab": {
          "base_uri": "https://localhost:8080/"
        },
        "id": "QxZtRN7MuTyu",
        "outputId": "adb13856-aa2d-4374-d4f4-0342dee5bfd1"
      },
      "source": [
        "Y_test"
      ],
      "execution_count": 19,
      "outputs": [
        {
          "output_type": "execute_result",
          "data": {
            "text/plain": [
              "array([105733.54, 107404.34,  96712.8 , 156122.51,  42559.73, 182901.99,\n",
              "       192261.83, 144259.4 , 124266.9 ,  77798.83])"
            ]
          },
          "metadata": {},
          "execution_count": 19
        }
      ]
    }
  ]
}