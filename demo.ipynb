{
  "nbformat": 4,
  "nbformat_minor": 0,
  "metadata": {
    "colab": {
      "name": "demo.ipynb",
      "provenance": [],
      "authorship_tag": "ABX9TyPZY9Xz0AADCuuRwVBM801C",
      "include_colab_link": true
    },
    "kernelspec": {
      "name": "python3",
      "display_name": "Python 3"
    },
    "language_info": {
      "name": "python"
    }
  },
  "cells": [
    {
      "cell_type": "markdown",
      "metadata": {
        "id": "view-in-github",
        "colab_type": "text"
      },
      "source": [
        "<a href=\"https://colab.research.google.com/github/sravanikagga/git-python-project/blob/main/demo.ipynb\" target=\"_parent\"><img src=\"https://colab.research.google.com/assets/colab-badge.svg\" alt=\"Open In Colab\"/></a>"
      ]
    },
    {
      "cell_type": "code",
      "metadata": {
        "colab": {
          "base_uri": "https://localhost:8080/"
        },
        "id": "B1YrqEX9vPSq",
        "outputId": "19e21a73-dd89-4920-b946-0cbc3abba8bb"
      },
      "source": [
        "print('ML Bootcamp')"
      ],
      "execution_count": 1,
      "outputs": [
        {
          "output_type": "stream",
          "name": "stdout",
          "text": [
            "ML Bootcamp\n"
          ]
        }
      ]
    },
    {
      "cell_type": "code",
      "metadata": {
        "colab": {
          "base_uri": "https://localhost:8080/"
        },
        "id": "g2XTCy4HwV_h",
        "outputId": "2f44f6eb-609c-4252-8d7e-d135d26a18d9"
      },
      "source": [
        "a=25\n",
        "print(a)"
      ],
      "execution_count": 2,
      "outputs": [
        {
          "output_type": "stream",
          "name": "stdout",
          "text": [
            "25\n"
          ]
        }
      ]
    },
    {
      "cell_type": "code",
      "metadata": {
        "colab": {
          "base_uri": "https://localhost:8080/"
        },
        "id": "Xjulk3sI2FJi",
        "outputId": "a1e1aa81-d9c2-4105-e767-48eaa3697cc1"
      },
      "source": [
        "pip install paho-mqtt"
      ],
      "execution_count": 4,
      "outputs": [
        {
          "output_type": "stream",
          "name": "stdout",
          "text": [
            "Requirement already satisfied: paho-mqtt in /usr/local/lib/python3.7/dist-packages (1.6.1)\n"
          ]
        }
      ]
    },
    {
      "cell_type": "code",
      "metadata": {
        "colab": {
          "base_uri": "https://localhost:8080/"
        },
        "id": "U5d_l6Zv616i",
        "outputId": "c3b16222-2870-41d4-b88c-ca5bc1a1af0f"
      },
      "source": [
        "import paho.mqtt.client as mqtt\n",
        "client=mqtt.Client() #creating an object\n",
        "Client.connect('broker.hivemq.com',1883)\n",
        "print('Broker connected')\n",
        "client.publish('kits/ml','Its boring....')"
      ],
      "execution_count": 10,
      "outputs": [
        {
          "output_type": "stream",
          "name": "stdout",
          "text": [
            "Broker connected\n"
          ]
        },
        {
          "output_type": "execute_result",
          "data": {
            "text/plain": [
              "<paho.mqtt.client.MQTTMessageInfo at 0x7f60639e1c50>"
            ]
          },
          "metadata": {},
          "execution_count": 10
        }
      ]
    },
    {
      "cell_type": "code",
      "metadata": {
        "colab": {
          "base_uri": "https://localhost:8080/"
        },
        "id": "11Qmpvv7941D",
        "outputId": "37888ad8-b4c5-4658-98ae-0f6d8da706bc"
      },
      "source": [
        "#subscriber\n",
        "import paho.mqtt.client as mqtt\n",
        "client=mqtt.Client()\n",
        "client.connect('broker.hivemq.com',1883)\n",
        "print('Broker Connected')\n",
        "client.subscribe('kits/ml')\n",
        "def notification(client,userdata,msg):\n",
        "  print(msg.payload)\n",
        "client.on_message=notification\n",
        "client.loop_forever()"
      ],
      "execution_count": null,
      "outputs": [
        {
          "output_type": "stream",
          "name": "stdout",
          "text": [
            "Broker Connected\n",
            "b'SpaceX here..'\n",
            "b'BlueOrigin here..'\n",
            "b'Soma is here.....'\n",
            "b'I love you pspk'\n",
            "b'Praveen here...'\n",
            "b'hacker here'\n",
            "b'kinguuu here..'\n",
            "b'hacker here'\n",
            "b'kinguuu here..'\n",
            "b'hello noobs,noob003 here'\n",
            "b'manideep here'\n",
            "b'prudhvi'\n",
            "b'Windows11 here..'\n",
            "b'manideep here'\n",
            "b'tj..'\n",
            "b'Linux here..'\n",
            "b'Unix here..'\n",
            "b'hacker here'\n",
            "b'revanth here'\n",
            "b'I am sravan '\n",
            "b'mark ZukerBerg here..'\n",
            "b'mark ZukerBerg here..'\n",
            "b'mahesh'\n",
            "b'uday here'\n",
            "b'METAVERSE here..'\n",
            "b'john...'\n",
            "b'karthikeya 143'\n",
            "b'john...'\n",
            "b'sai here..'\n",
            "b'Hello world here..'\n",
            "b'john...'\n",
            "b'john...'\n",
            "b'I am srk '\n",
            "b'john...'\n",
            "b'Please Recharge..'\n",
            "b'soma here...'\n",
            "b'john...'\n",
            "b'Hello'\n",
            "b'karthik here....'\n",
            "b'phani__,'\n",
            "b'Falcon From  SpaceX'\n",
            "b'Falcon From  SpaceX'\n",
            "b'Falcon9 From  SpaceX'\n",
            "b'Falcon9 From  SpaceX'\n",
            "b'BitCoin From  Elon'\n",
            "b'karthik here....'\n",
            "b'priya is here.....'\n",
            "b'404 Not found '\n",
            "b'404 Not found Page Not Available Check Updates'\n",
            "b'your account is hacked'\n",
            "b' your account'\n",
            "b'your account is hacked'\n",
            "b'Please Subscribe,hit Bell Icon'\n",
            "b'our adda'\n",
            "b'Welcome To Pluto ;)'\n",
            "b'karthikeya 143'\n",
            "b'Good....Better....Best....'\n",
            "b'Rowdy is here.....'\n",
            "b'Technologies'\n",
            "b'karthikeya 143'\n",
            "b'karthikeya 143'\n",
            "b'karthikeya 143'\n",
            "b'Hello'\n",
            "b'yem sangati ardam avaledha'\n",
            "b'Technologies'\n",
            "b'mahesh'\n",
            "b'jagadeesh punisher here....'\n",
            "b'madblocks here'\n",
            "b'CSE here....'\n",
            "b'CSE here....'\n",
            "b'CSE here....'\n",
            "b'CSE1 here....'\n",
            "b'CSE here....'\n",
            "b'I am nandini'\n",
            "b'i am bhavya'\n",
            "b'CSE here....'\n",
            "b'jagadeesh punisher here....'\n",
            "b'I am Priya'\n",
            "b'CSE here....'\n",
            "b'CSE here....'\n",
            "b'CSE here....'\n",
            "b'2k bokka....'\n",
            "b'CSE here....'\n",
            "b'cse here...'\n",
            "b'cse here...'\n",
            "b'jagadeesh krista here...'\n",
            "b'cse  here...'\n",
            "b'PARDHU HERE'\n",
            "b'CSE here....'\n",
            "b'CSE here....'\n",
            "b'Triveni here. . .'\n",
            "b'Maddy here..'\n",
            "b'i am madhu'\n",
            "b'sekhar here...'\n",
            "b'GOVINDU here...'\n",
            "b'hi'\n",
            "b'HI prends from amalapuram'\n",
            "b'hi'\n",
            "b'hi'\n",
            "b'hi'\n",
            "b'Vasu here. . .'\n",
            "b'Vasu here. . .'\n",
            "b''\n",
            "b'PARDHU HERE'\n",
            "b'hello'\n",
            "b'HI prends from amalapuram'\n",
            "b'GOVINDU here...'\n",
            "b'Vasu here. . .'\n",
            "b'hi'\n",
            "b'hi'\n",
            "b'cse  here...'\n"
          ]
        }
      ]
    }
  ]
}